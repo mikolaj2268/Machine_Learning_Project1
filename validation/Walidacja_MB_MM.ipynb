{
 "cells": [
  {
   "cell_type": "markdown",
   "id": "e1babd0f",
   "metadata": {},
   "source": [
    "## PROJEKT WALIDACYJNY - MICHAŁ BINDA MIKOŁAJ MRÓZ"
   ]
  },
  {
   "cell_type": "markdown",
   "id": "5ee67d5b",
   "metadata": {},
   "source": [
    "## Splitting the database"
   ]
  },
  {
   "cell_type": "code",
   "execution_count": 1,
   "id": "ecf46450",
   "metadata": {},
   "outputs": [
    {
     "name": "stdout",
     "output_type": "stream",
     "text": [
      "Requirement already satisfied: langdetect in /Users/michal.binda/opt/anaconda3/lib/python3.9/site-packages (1.0.9)\n",
      "Requirement already satisfied: six in /Users/michal.binda/opt/anaconda3/lib/python3.9/site-packages (from langdetect) (1.16.0)\n",
      "Note: you may need to restart the kernel to use updated packages.\n"
     ]
    }
   ],
   "source": [
    "pip install langdetect"
   ]
  },
  {
   "cell_type": "code",
   "execution_count": 2,
   "id": "439ad87a",
   "metadata": {
    "scrolled": true
   },
   "outputs": [
    {
     "data": {
      "text/plain": [
       "0            1\n",
       "1            2\n",
       "2            3\n",
       "3            4\n",
       "4            5\n",
       "         ...  \n",
       "69039    69040\n",
       "69040    69041\n",
       "69041    69042\n",
       "69042    69043\n",
       "69043    69044\n",
       "Name: id, Length: 69044, dtype: int64"
      ]
     },
     "execution_count": 2,
     "metadata": {},
     "output_type": "execute_result"
    }
   ],
   "source": [
    "import pandas as pd\n",
    "from sklearn.metrics import classification_report\n",
    "from sklearn.neighbors import KNeighborsClassifier\n",
    "from sklearn.model_selection import train_test_split\n",
    "import numpy as np\n",
    "from statistics import mean\n",
    "from langdetect import detect\n",
    "\n",
    "df = pd.read_csv('PreProcessedData.csv', sep=',', names=['id','title','text','type'], header=None, skiprows=2,)\n",
    "df.pop(df.columns[0])"
   ]
  },
  {
   "cell_type": "code",
   "execution_count": 3,
   "id": "4472cf06",
   "metadata": {},
   "outputs": [
    {
     "data": {
      "text/html": [
       "<div>\n",
       "<style scoped>\n",
       "    .dataframe tbody tr th:only-of-type {\n",
       "        vertical-align: middle;\n",
       "    }\n",
       "\n",
       "    .dataframe tbody tr th {\n",
       "        vertical-align: top;\n",
       "    }\n",
       "\n",
       "    .dataframe thead th {\n",
       "        text-align: right;\n",
       "    }\n",
       "</style>\n",
       "<table border=\"1\" class=\"dataframe\">\n",
       "  <thead>\n",
       "    <tr style=\"text-align: right;\">\n",
       "      <th></th>\n",
       "      <th>title</th>\n",
       "      <th>text</th>\n",
       "      <th>type</th>\n",
       "    </tr>\n",
       "  </thead>\n",
       "  <tbody>\n",
       "    <tr>\n",
       "      <th>0</th>\n",
       "      <td>Rating: Moody‘s verbessert Ausblick für Russla...</td>\n",
       "      <td>bankensektor Der russische Staat werde die Ban...</td>\n",
       "      <td>fake</td>\n",
       "    </tr>\n",
       "    <tr>\n",
       "      <th>1</th>\n",
       "      <td>CAN WE ADD DIRTY MONEY ‘LAUNDERING’ To The Oba...</td>\n",
       "      <td>A member of the House Intelligence Committee i...</td>\n",
       "      <td>fake</td>\n",
       "    </tr>\n",
       "    <tr>\n",
       "      <th>2</th>\n",
       "      <td>Republicans on Obamacare repeal: 'We're going ...</td>\n",
       "      <td>WASHINGTON (Reuters) - House of Representative...</td>\n",
       "      <td>true</td>\n",
       "    </tr>\n",
       "    <tr>\n",
       "      <th>3</th>\n",
       "      <td>Trump, on possible DACA deal, says border wall...</td>\n",
       "      <td>WASHINGTON (Reuters) - U.S. President Donald T...</td>\n",
       "      <td>true</td>\n",
       "    </tr>\n",
       "    <tr>\n",
       "      <th>4</th>\n",
       "      <td>Here Is Why the Trump Administration Will Be a...</td>\n",
       "      <td>Originally appeared at The American Conservati...</td>\n",
       "      <td>fake</td>\n",
       "    </tr>\n",
       "  </tbody>\n",
       "</table>\n",
       "</div>"
      ],
      "text/plain": [
       "                                               title  \\\n",
       "0  Rating: Moody‘s verbessert Ausblick für Russla...   \n",
       "1  CAN WE ADD DIRTY MONEY ‘LAUNDERING’ To The Oba...   \n",
       "2  Republicans on Obamacare repeal: 'We're going ...   \n",
       "3  Trump, on possible DACA deal, says border wall...   \n",
       "4  Here Is Why the Trump Administration Will Be a...   \n",
       "\n",
       "                                                text  type  \n",
       "0  bankensektor Der russische Staat werde die Ban...  fake  \n",
       "1  A member of the House Intelligence Committee i...  fake  \n",
       "2  WASHINGTON (Reuters) - House of Representative...  true  \n",
       "3  WASHINGTON (Reuters) - U.S. President Donald T...  true  \n",
       "4  Originally appeared at The American Conservati...  fake  "
      ]
     },
     "execution_count": 3,
     "metadata": {},
     "output_type": "execute_result"
    }
   ],
   "source": [
    "train, test, validation = np.split(df, [int(len(df) * 0.6), int(len(df) * 0.8)])\n",
    "train.head()\n"
   ]
  },
  {
   "cell_type": "code",
   "execution_count": 4,
   "id": "c72037f3",
   "metadata": {},
   "outputs": [
    {
     "data": {
      "text/html": [
       "<div>\n",
       "<style scoped>\n",
       "    .dataframe tbody tr th:only-of-type {\n",
       "        vertical-align: middle;\n",
       "    }\n",
       "\n",
       "    .dataframe tbody tr th {\n",
       "        vertical-align: top;\n",
       "    }\n",
       "\n",
       "    .dataframe thead th {\n",
       "        text-align: right;\n",
       "    }\n",
       "</style>\n",
       "<table border=\"1\" class=\"dataframe\">\n",
       "  <thead>\n",
       "    <tr style=\"text-align: right;\">\n",
       "      <th></th>\n",
       "      <th>title</th>\n",
       "      <th>text</th>\n",
       "      <th>type</th>\n",
       "    </tr>\n",
       "  </thead>\n",
       "  <tbody>\n",
       "    <tr>\n",
       "      <th>55235</th>\n",
       "      <td>Obama On Baltimore: 'This Is Not New'</td>\n",
       "      <td>President Barack Obama on Tuesday addressed th...</td>\n",
       "      <td>true</td>\n",
       "    </tr>\n",
       "    <tr>\n",
       "      <th>55236</th>\n",
       "      <td>Watch A Trump Supporter GO BONKERS Trying To ...</td>\n",
       "      <td>Anyone trying to defend Donald Trump after his...</td>\n",
       "      <td>fake</td>\n",
       "    </tr>\n",
       "    <tr>\n",
       "      <th>55237</th>\n",
       "      <td>LIBS ON TWITTER Go Nuts Over Kellyanne Conway’...</td>\n",
       "      <td>Liberals on Twitter just can t find enough rea...</td>\n",
       "      <td>fake</td>\n",
       "    </tr>\n",
       "    <tr>\n",
       "      <th>55238</th>\n",
       "      <td>Highlights: The Trump presidency on February 2...</td>\n",
       "      <td>(Reuters) - Highlights of the day for U.S. Pre...</td>\n",
       "      <td>true</td>\n",
       "    </tr>\n",
       "    <tr>\n",
       "      <th>55239</th>\n",
       "      <td>Malta police arrest 10 suspects in murder of b...</td>\n",
       "      <td>VALLETTA (Reuters) - Maltese police have arres...</td>\n",
       "      <td>true</td>\n",
       "    </tr>\n",
       "  </tbody>\n",
       "</table>\n",
       "</div>"
      ],
      "text/plain": [
       "                                                   title  \\\n",
       "55235              Obama On Baltimore: 'This Is Not New'   \n",
       "55236   Watch A Trump Supporter GO BONKERS Trying To ...   \n",
       "55237  LIBS ON TWITTER Go Nuts Over Kellyanne Conway’...   \n",
       "55238  Highlights: The Trump presidency on February 2...   \n",
       "55239  Malta police arrest 10 suspects in murder of b...   \n",
       "\n",
       "                                                    text  type  \n",
       "55235  President Barack Obama on Tuesday addressed th...  true  \n",
       "55236  Anyone trying to defend Donald Trump after his...  fake  \n",
       "55237  Liberals on Twitter just can t find enough rea...  fake  \n",
       "55238  (Reuters) - Highlights of the day for U.S. Pre...  true  \n",
       "55239  VALLETTA (Reuters) - Maltese police have arres...  true  "
      ]
     },
     "execution_count": 4,
     "metadata": {},
     "output_type": "execute_result"
    }
   ],
   "source": [
    "train = validation\n",
    "train.head()"
   ]
  },
  {
   "cell_type": "markdown",
   "id": "8fbef685",
   "metadata": {},
   "source": [
    "### Lepszą opcją byłoby najpierw podzielenie danych pózniej dopiero usuwanie kolumn. W tej sytuacji kolejność nie ma znaczenia, ale lepiej trzymać się zasad"
   ]
  },
  {
   "cell_type": "markdown",
   "id": "c48edff5",
   "metadata": {},
   "source": [
    "## Replacing NA and changing formats"
   ]
  },
  {
   "cell_type": "code",
   "execution_count": 5,
   "id": "33d8f925",
   "metadata": {},
   "outputs": [
    {
     "name": "stdout",
     "output_type": "stream",
     "text": [
      "154\n",
      "0\n"
     ]
    }
   ],
   "source": [
    "# How many of them have either title na or text na and if any have both\n",
    "print(len(train[train['title'].isna() | train['text'].isna()]))\n",
    "print(len(train[train['title'].isna() & train['text'].isna()]))"
   ]
  },
  {
   "cell_type": "code",
   "execution_count": 6,
   "id": "7c7731a5",
   "metadata": {},
   "outputs": [
    {
     "data": {
      "text/html": [
       "<div>\n",
       "<style scoped>\n",
       "    .dataframe tbody tr th:only-of-type {\n",
       "        vertical-align: middle;\n",
       "    }\n",
       "\n",
       "    .dataframe tbody tr th {\n",
       "        vertical-align: top;\n",
       "    }\n",
       "\n",
       "    .dataframe thead th {\n",
       "        text-align: right;\n",
       "    }\n",
       "</style>\n",
       "<table border=\"1\" class=\"dataframe\">\n",
       "  <thead>\n",
       "    <tr style=\"text-align: right;\">\n",
       "      <th></th>\n",
       "      <th>title</th>\n",
       "      <th>text</th>\n",
       "      <th>type</th>\n",
       "    </tr>\n",
       "  </thead>\n",
       "  <tbody>\n",
       "    <tr>\n",
       "      <th>55235</th>\n",
       "      <td>Obama On Baltimore: 'This Is Not New'</td>\n",
       "      <td>President Barack Obama on Tuesday addressed th...</td>\n",
       "      <td>true</td>\n",
       "    </tr>\n",
       "    <tr>\n",
       "      <th>55236</th>\n",
       "      <td>Watch A Trump Supporter GO BONKERS Trying To ...</td>\n",
       "      <td>Anyone trying to defend Donald Trump after his...</td>\n",
       "      <td>fake</td>\n",
       "    </tr>\n",
       "    <tr>\n",
       "      <th>55237</th>\n",
       "      <td>LIBS ON TWITTER Go Nuts Over Kellyanne Conway’...</td>\n",
       "      <td>Liberals on Twitter just can t find enough rea...</td>\n",
       "      <td>fake</td>\n",
       "    </tr>\n",
       "    <tr>\n",
       "      <th>55238</th>\n",
       "      <td>Highlights: The Trump presidency on February 2...</td>\n",
       "      <td>(Reuters) - Highlights of the day for U.S. Pre...</td>\n",
       "      <td>true</td>\n",
       "    </tr>\n",
       "    <tr>\n",
       "      <th>55239</th>\n",
       "      <td>Malta police arrest 10 suspects in murder of b...</td>\n",
       "      <td>VALLETTA (Reuters) - Maltese police have arres...</td>\n",
       "      <td>true</td>\n",
       "    </tr>\n",
       "    <tr>\n",
       "      <th>...</th>\n",
       "      <td>...</td>\n",
       "      <td>...</td>\n",
       "      <td>...</td>\n",
       "    </tr>\n",
       "    <tr>\n",
       "      <th>69039</th>\n",
       "      <td>Burundi opposition platform boycotts new round...</td>\n",
       "      <td>NAIROBI (Reuters) - Burundi s main opposition ...</td>\n",
       "      <td>true</td>\n",
       "    </tr>\n",
       "    <tr>\n",
       "      <th>69040</th>\n",
       "      <td>Hillary’s Message To Former Miss Universe Cal...</td>\n",
       "      <td>Miss Universe 1996 Alicia Machado is now an Am...</td>\n",
       "      <td>fake</td>\n",
       "    </tr>\n",
       "    <tr>\n",
       "      <th>69041</th>\n",
       "      <td>Cop Crashes Car And Runs Away When More Cops A...</td>\n",
       "      <td>The Daily Sheeple – by Ryan Banister \\r\\nAn aw...</td>\n",
       "      <td>fake</td>\n",
       "    </tr>\n",
       "    <tr>\n",
       "      <th>69042</th>\n",
       "      <td>Trump Stole An Idea From North Korean Propaga...</td>\n",
       "      <td>Jesus f*cking Christ our President* is a moron...</td>\n",
       "      <td>fake</td>\n",
       "    </tr>\n",
       "    <tr>\n",
       "      <th>69043</th>\n",
       "      <td>BREAKING: HILLARY CLINTON’S STATE DEPARTMENT G...</td>\n",
       "      <td>IF SHE S NOT TOAST NOW THEN WE RE IN BIGGER TR...</td>\n",
       "      <td>fake</td>\n",
       "    </tr>\n",
       "  </tbody>\n",
       "</table>\n",
       "<p>13809 rows × 3 columns</p>\n",
       "</div>"
      ],
      "text/plain": [
       "                                                   title  \\\n",
       "55235              Obama On Baltimore: 'This Is Not New'   \n",
       "55236   Watch A Trump Supporter GO BONKERS Trying To ...   \n",
       "55237  LIBS ON TWITTER Go Nuts Over Kellyanne Conway’...   \n",
       "55238  Highlights: The Trump presidency on February 2...   \n",
       "55239  Malta police arrest 10 suspects in murder of b...   \n",
       "...                                                  ...   \n",
       "69039  Burundi opposition platform boycotts new round...   \n",
       "69040   Hillary’s Message To Former Miss Universe Cal...   \n",
       "69041  Cop Crashes Car And Runs Away When More Cops A...   \n",
       "69042   Trump Stole An Idea From North Korean Propaga...   \n",
       "69043  BREAKING: HILLARY CLINTON’S STATE DEPARTMENT G...   \n",
       "\n",
       "                                                    text  type  \n",
       "55235  President Barack Obama on Tuesday addressed th...  true  \n",
       "55236  Anyone trying to defend Donald Trump after his...  fake  \n",
       "55237  Liberals on Twitter just can t find enough rea...  fake  \n",
       "55238  (Reuters) - Highlights of the day for U.S. Pre...  true  \n",
       "55239  VALLETTA (Reuters) - Maltese police have arres...  true  \n",
       "...                                                  ...   ...  \n",
       "69039  NAIROBI (Reuters) - Burundi s main opposition ...  true  \n",
       "69040  Miss Universe 1996 Alicia Machado is now an Am...  fake  \n",
       "69041  The Daily Sheeple – by Ryan Banister \\r\\nAn aw...  fake  \n",
       "69042  Jesus f*cking Christ our President* is a moron...  fake  \n",
       "69043  IF SHE S NOT TOAST NOW THEN WE RE IN BIGGER TR...  fake  \n",
       "\n",
       "[13809 rows x 3 columns]"
      ]
     },
     "execution_count": 6,
     "metadata": {},
     "output_type": "execute_result"
    }
   ],
   "source": [
    "# let's replace na values in title & text columns with an empty string\n",
    "def replace_na(df):\n",
    "    df['title'] =  df['title'].fillna('')\n",
    "    df['text'] = df['text'].fillna('')\n",
    "    df.loc[df['text'].str.isspace() | df['title'].str.isspace(), 'text'] = ''\n",
    "    return df\n",
    "    \n",
    "replace_na(train)"
   ]
  },
  {
   "cell_type": "markdown",
   "id": "ce6ac104",
   "metadata": {},
   "source": [
    "### Zamienie NA wartości na puste stringi jest dobrym sposobem. Można by najpierw policzyć ile jest takich wierszy z wartościami NA, jeżeli jest to tylko kilka wierszy na 41 tysięcy, można takie wiersze usunąć. Jednak być może ten sposób lepiej sie przełoży na końcowy model. Polecam sprawdzić liczbe wierszy z wartosciami NA"
   ]
  },
  {
   "cell_type": "markdown",
   "id": "6e01625a",
   "metadata": {},
   "source": [
    "Removing rows written in language different than English"
   ]
  },
  {
   "cell_type": "code",
   "execution_count": 7,
   "id": "c284b3df",
   "metadata": {},
   "outputs": [],
   "source": [
    "def detect_language(row):\n",
    "    try:\n",
    "        return detect(row['title'])\n",
    "    except:\n",
    "        try:\n",
    "            return detect(row['text'])\n",
    "        except:\n",
    "            return ''\n",
    "\n",
    "def remove_other_languages(df):\n",
    "    df['language'] = df.apply(lambda row: detect_language(row), axis=1)\n",
    "    bad_rows_count = len(df[df['language'] != 'en'])\n",
    "    print(f'There are', bad_rows_count, 'rows with a language different than English')\n",
    "    df = df.drop(df[df.language != 'en'].index)\n",
    "    df = df.drop('language', axis=1)\n",
    "    return df"
   ]
  },
  {
   "cell_type": "markdown",
   "id": "cb25b50e",
   "metadata": {},
   "source": [
    "### usuwanie wierszy z tekstem w innym języku niz angielski - może te wiersze będą istotne w waszym modelu? Może by najpierw policzyc ile jest takich wierszy? jezeli ich jest bardzo mało to jak najbardziej można usunąć. Usuwanie wierszy bez większej wiedzy o nich nie jest najlepszym pomysłem.\n"
   ]
  },
  {
   "cell_type": "code",
   "execution_count": 8,
   "id": "d3692a00",
   "metadata": {},
   "outputs": [
    {
     "name": "stdout",
     "output_type": "stream",
     "text": [
      "There are 628 rows with a language different than English\n"
     ]
    },
    {
     "data": {
      "text/html": [
       "<div>\n",
       "<style scoped>\n",
       "    .dataframe tbody tr th:only-of-type {\n",
       "        vertical-align: middle;\n",
       "    }\n",
       "\n",
       "    .dataframe tbody tr th {\n",
       "        vertical-align: top;\n",
       "    }\n",
       "\n",
       "    .dataframe thead th {\n",
       "        text-align: right;\n",
       "    }\n",
       "</style>\n",
       "<table border=\"1\" class=\"dataframe\">\n",
       "  <thead>\n",
       "    <tr style=\"text-align: right;\">\n",
       "      <th></th>\n",
       "      <th>title</th>\n",
       "      <th>text</th>\n",
       "      <th>type</th>\n",
       "    </tr>\n",
       "  </thead>\n",
       "  <tbody>\n",
       "    <tr>\n",
       "      <th>55235</th>\n",
       "      <td>Obama On Baltimore: 'This Is Not New'</td>\n",
       "      <td>President Barack Obama on Tuesday addressed th...</td>\n",
       "      <td>true</td>\n",
       "    </tr>\n",
       "    <tr>\n",
       "      <th>55236</th>\n",
       "      <td>Watch A Trump Supporter GO BONKERS Trying To ...</td>\n",
       "      <td>Anyone trying to defend Donald Trump after his...</td>\n",
       "      <td>fake</td>\n",
       "    </tr>\n",
       "    <tr>\n",
       "      <th>55237</th>\n",
       "      <td>LIBS ON TWITTER Go Nuts Over Kellyanne Conway’...</td>\n",
       "      <td>Liberals on Twitter just can t find enough rea...</td>\n",
       "      <td>fake</td>\n",
       "    </tr>\n",
       "    <tr>\n",
       "      <th>55238</th>\n",
       "      <td>Highlights: The Trump presidency on February 2...</td>\n",
       "      <td>(Reuters) - Highlights of the day for U.S. Pre...</td>\n",
       "      <td>true</td>\n",
       "    </tr>\n",
       "    <tr>\n",
       "      <th>55239</th>\n",
       "      <td>Malta police arrest 10 suspects in murder of b...</td>\n",
       "      <td>VALLETTA (Reuters) - Maltese police have arres...</td>\n",
       "      <td>true</td>\n",
       "    </tr>\n",
       "  </tbody>\n",
       "</table>\n",
       "</div>"
      ],
      "text/plain": [
       "                                                   title  \\\n",
       "55235              Obama On Baltimore: 'This Is Not New'   \n",
       "55236   Watch A Trump Supporter GO BONKERS Trying To ...   \n",
       "55237  LIBS ON TWITTER Go Nuts Over Kellyanne Conway’...   \n",
       "55238  Highlights: The Trump presidency on February 2...   \n",
       "55239  Malta police arrest 10 suspects in murder of b...   \n",
       "\n",
       "                                                    text  type  \n",
       "55235  President Barack Obama on Tuesday addressed th...  true  \n",
       "55236  Anyone trying to defend Donald Trump after his...  fake  \n",
       "55237  Liberals on Twitter just can t find enough rea...  fake  \n",
       "55238  (Reuters) - Highlights of the day for U.S. Pre...  true  \n",
       "55239  VALLETTA (Reuters) - Maltese police have arres...  true  "
      ]
     },
     "execution_count": 8,
     "metadata": {},
     "output_type": "execute_result"
    }
   ],
   "source": [
    "train = remove_other_languages(train)\n",
    "train.head()"
   ]
  },
  {
   "cell_type": "code",
   "execution_count": 9,
   "id": "1d1a77ba",
   "metadata": {},
   "outputs": [
    {
     "data": {
      "text/plain": [
       "array(['true', 'fake'], dtype=object)"
      ]
     },
     "execution_count": 9,
     "metadata": {},
     "output_type": "execute_result"
    }
   ],
   "source": [
    "train['type'].unique()"
   ]
  },
  {
   "cell_type": "markdown",
   "id": "ac2425e3",
   "metadata": {},
   "source": [
    "### def change_type_format(df):\n",
    "    df['type'] = (df['type']=='true').astype(int)\n",
    "    return df"
   ]
  },
  {
   "cell_type": "code",
   "execution_count": 10,
   "id": "d6a74aba",
   "metadata": {},
   "outputs": [
    {
     "ename": "NameError",
     "evalue": "name 'change_type_format' is not defined",
     "output_type": "error",
     "traceback": [
      "\u001b[0;31m---------------------------------------------------------------------------\u001b[0m",
      "\u001b[0;31mNameError\u001b[0m                                 Traceback (most recent call last)",
      "\u001b[0;32m/var/folders/qg/gflj6rgd0wj20kdyzmh7j73r0000gn/T/ipykernel_99689/3990492328.py\u001b[0m in \u001b[0;36m<module>\u001b[0;34m\u001b[0m\n\u001b[0;32m----> 1\u001b[0;31m \u001b[0mchange_type_format\u001b[0m\u001b[0;34m(\u001b[0m\u001b[0mtrain\u001b[0m\u001b[0;34m)\u001b[0m\u001b[0;34m\u001b[0m\u001b[0;34m\u001b[0m\u001b[0m\n\u001b[0m",
      "\u001b[0;31mNameError\u001b[0m: name 'change_type_format' is not defined"
     ]
    }
   ],
   "source": [
    "change_type_format(train)"
   ]
  },
  {
   "cell_type": "markdown",
   "id": "d5b7f9ea",
   "metadata": {},
   "source": [
    "## Generating additional columns"
   ]
  },
  {
   "cell_type": "code",
   "execution_count": 11,
   "id": "e6d43fbc",
   "metadata": {},
   "outputs": [],
   "source": [
    "def count_capital_letters_part(title):\n",
    "    capital_letters = 0\n",
    "    c: str\n",
    "    for c in title:\n",
    "        if c.isupper():\n",
    "            capital_letters += 1\n",
    "\n",
    "    return capital_letters / len(title) if len(title) > 0 else 0"
   ]
  },
  {
   "cell_type": "code",
   "execution_count": 12,
   "id": "cab66b35",
   "metadata": {},
   "outputs": [],
   "source": [
    "def count_punctuation_marks_per_char(text):\n",
    "    if len(text) == 0:\n",
    "        return 0\n",
    "    return (text.count('?') +\n",
    "            text.count('!') +\n",
    "            text.count('.') +\n",
    "            text.count(',') +\n",
    "            text.count(':') +\n",
    "            text.count('-') +\n",
    "            text.count('\"') +\n",
    "            text.count(';')) / len(text)"
   ]
  },
  {
   "cell_type": "code",
   "execution_count": 13,
   "id": "56394ce8",
   "metadata": {},
   "outputs": [],
   "source": [
    "def avg_word_length(text):\n",
    "    words = text.split()\n",
    "\n",
    "    if len(words) == 0:\n",
    "        return 0\n",
    "\n",
    "    return mean([len(word) for word in words])"
   ]
  },
  {
   "cell_type": "code",
   "execution_count": 14,
   "id": "8fde219a",
   "metadata": {},
   "outputs": [],
   "source": [
    "reliable_sources = ['Reuters', 'CNN']\n",
    "reliable_sources = [f'({x})' for x in reliable_sources]\n",
    "spam_phrases = ['FOLLOW', 'CLICK', 'SUBSCRIBE', 'FREE']"
   ]
  },
  {
   "cell_type": "markdown",
   "id": "1cffbff7",
   "metadata": {},
   "source": [
    "### Bardzo ciekawy pomysł na stworzenie nowych kolumn, jak pozniej będzie widoczne na macierzy korelacji jest on bardzo udany  "
   ]
  },
  {
   "cell_type": "code",
   "execution_count": 15,
   "id": "544788d4",
   "metadata": {},
   "outputs": [],
   "source": [
    "def add_columns(df): \n",
    "    df['title_length'] = df['title'].str.len()\n",
    "    df['capital_letters_part'] = df['title'].apply(count_capital_letters_part)\n",
    "    df['trustworthy_source'] = (df['text'].str.contains('|'.join(reliable_sources), regex=True)).astype('int')\n",
    "    df['link_count'] = df['text'].str.count('#') + df['text'].str.count('http') + df['text'].str.count('@')\n",
    "    df['spam_phrases'] = df['text'].str.contains('|'.join(spam_phrases)).astype('int')\n",
    "    df['punctuation_marks_per_char'] = df['text'].apply(count_punctuation_marks_per_char)\n",
    "    df['avg_word_length'] = df['text'].apply(avg_word_length)\n",
    "    return df[['title_length',\n",
    "                'capital_letters_part', \n",
    "                'trustworthy_source', \n",
    "                'link_count', \n",
    "                'spam_phrases', \n",
    "                'punctuation_marks_per_char',\n",
    "                'avg_word_length', \n",
    "                'type']]"
   ]
  },
  {
   "cell_type": "code",
   "execution_count": 16,
   "id": "65f7da3a",
   "metadata": {},
   "outputs": [
    {
     "name": "stderr",
     "output_type": "stream",
     "text": [
      "/var/folders/qg/gflj6rgd0wj20kdyzmh7j73r0000gn/T/ipykernel_99689/1491959621.py:4: UserWarning: This pattern has match groups. To actually get the groups, use str.extract.\n",
      "  df['trustworthy_source'] = (df['text'].str.contains('|'.join(reliable_sources), regex=True)).astype('int')\n"
     ]
    }
   ],
   "source": [
    "train = add_columns(train)"
   ]
  },
  {
   "cell_type": "code",
   "execution_count": 17,
   "id": "56bcf52a",
   "metadata": {},
   "outputs": [
    {
     "data": {
      "text/plain": [
       "array([[<AxesSubplot:title={'center':'title_length'}>,\n",
       "        <AxesSubplot:title={'center':'capital_letters_part'}>,\n",
       "        <AxesSubplot:title={'center':'trustworthy_source'}>],\n",
       "       [<AxesSubplot:title={'center':'link_count'}>,\n",
       "        <AxesSubplot:title={'center':'spam_phrases'}>,\n",
       "        <AxesSubplot:title={'center':'punctuation_marks_per_char'}>],\n",
       "       [<AxesSubplot:title={'center':'avg_word_length'}>, <AxesSubplot:>,\n",
       "        <AxesSubplot:>]], dtype=object)"
      ]
     },
     "execution_count": 17,
     "metadata": {},
     "output_type": "execute_result"
    },
    {
     "data": {
      "image/png": "[encoded data removed]",
      "text/plain": [
       "<Figure size 1440x720 with 9 Axes>"
      ]
     },
     "metadata": {
      "needs_background": "light"
     },
     "output_type": "display_data"
    }
   ],
   "source": [
    "import matplotlib.pyplot as plt\n",
    "train.hist(figsize=(20,10))"
   ]
  },
  {
   "cell_type": "markdown",
   "id": "dfdaa5da",
   "metadata": {},
   "source": [
    "### Macierz korelacji na pliku walidacyjnym odbiega od macierzy na pliku treningowym, szczególnie dla kolumn \"trustworthy_source\". "
   ]
  },
  {
   "cell_type": "code",
   "execution_count": 20,
   "id": "d5a1f686",
   "metadata": {},
   "outputs": [
    {
     "data": {
      "text/plain": [
       "<AxesSubplot:>"
      ]
     },
     "execution_count": 20,
     "metadata": {},
     "output_type": "execute_result"
    },
    {
     "data": {
      "image/png": "[encoded data removed]",
      "text/plain": [
       "<Figure size 432x288 with 2 Axes>"
      ]
     },
     "metadata": {
      "needs_background": "light"
     },
     "output_type": "display_data"
    }
   ],
   "source": [
    "import seaborn as sns\n",
    "sns.heatmap(train.corr())"
   ]
  },
  {
   "cell_type": "markdown",
   "id": "446a4d14",
   "metadata": {},
   "source": [
    "### Nie skorzystaliscie tez z macierzy korelacji. Można usunąć jakies kolumny ktore maja bardzo słabą korelacje z kolumną \"type\". Oczywiście nie we wszystkich modelach jest to dobre podejście. Warto jednak sprawdzić czy usunięcie niektórych kolumn nie wpłynęlo by pozytywnie na predykcyjność modelu."
   ]
  },
  {
   "cell_type": "markdown",
   "id": "989524fc",
   "metadata": {},
   "source": [
    "## Gini"
   ]
  },
  {
   "cell_type": "code",
   "execution_count": 26,
   "id": "ee7620c6",
   "metadata": {},
   "outputs": [],
   "source": [
    "def gini(x):\n",
    "    total = 0\n",
    "    for i, xi in enumerate(x[:-1], 1):\n",
    "        total += np.sum(np.abs(xi - x[i:]))\n",
    "    return total / (len(x)**2 * np.mean(x))"
   ]
  },
  {
   "cell_type": "code",
   "execution_count": null,
   "id": "47339373",
   "metadata": {},
   "outputs": [],
   "source": []
  },
  {
   "cell_type": "markdown",
   "id": "b6146566",
   "metadata": {},
   "source": [
    "## Standardization"
   ]
  },
  {
   "cell_type": "code",
   "execution_count": null,
   "id": "0c981eb4",
   "metadata": {},
   "outputs": [],
   "source": [
    "from sklearn.preprocessing import StandardScaler\n",
    "scaler = StandardScaler()\n",
    "def standardize(df):\n",
    "    df.loc[:, df.columns != \"type\"] = scaler.fit_transform(df.loc[:,df.columns != \"type\"].values)\n",
    "    return df"
   ]
  },
  {
   "cell_type": "code",
   "execution_count": null,
   "id": "70d3fa4e",
   "metadata": {},
   "outputs": [],
   "source": [
    "standardize(train)"
   ]
  },
  {
   "cell_type": "markdown",
   "id": "9dc6046c",
   "metadata": {},
   "source": [
    "### Preprocess function"
   ]
  },
  {
   "cell_type": "code",
   "execution_count": 24,
   "id": "7cce4d80",
   "metadata": {},
   "outputs": [],
   "source": [
    "def preprocess(df):\n",
    "    df = replace_na(df)\n",
    "    df = remove_other_languages(df)\n",
    "    df = change_type_format(df)\n",
    "    df = add_columns(df)\n",
    "    df = standardize(df)\n",
    "    return df"
   ]
  },
  {
   "cell_type": "code",
   "execution_count": null,
   "id": "a818752a",
   "metadata": {},
   "outputs": [],
   "source": []
  }
 ],
 "metadata": {
  "kernelspec": {
   "display_name": "Python 3 (ipykernel)",
   "language": "python",
   "name": "python3"
  },
  "language_info": {
   "codemirror_mode": {
    "name": "ipython",
    "version": 3
   },
   "file_extension": ".py",
   "mimetype": "text/x-python",
   "name": "python",
   "nbconvert_exporter": "python",
   "pygments_lexer": "ipython3",
   "version": "3.9.7"
  },
  "vscode": {
   "interpreter": {
    "hash": "5793e399947e0496f0e9685f9b9c6bef76e7b31de646eeccb76eb675f6ef9a8d"
   }
  }
 },
 "nbformat": 4,
 "nbformat_minor": 5
}
